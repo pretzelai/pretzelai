{
 "cells": [
  {
   "cell_type": "code",
   "execution_count": 1,
   "id": "4315a064-fc29-4183-81b6-fdea37c02102",
   "metadata": {
    "tags": []
   },
   "outputs": [
    {
     "name": "stdout",
     "output_type": "stream",
     "text": [
      "line\n",
      "line\n",
      "line\n",
      "line\n",
      "line\n",
      "line\n",
      "line\n",
      "line\n",
      "line\n",
      "line\n",
      "line\n",
      "line\n",
      "line\n",
      "line\n",
      "line\n",
      "line\n",
      "line\n",
      "line\n",
      "line\n",
      "line\n",
      "\n"
     ]
    }
   ],
   "source": [
    "print('line\\n' * 20)"
   ]
  },
  {
   "cell_type": "code",
   "execution_count": 2,
   "id": "1782c124-9e18-4864-b457-acb7a4186105",
   "metadata": {
    "tags": []
   },
   "outputs": [
    {
     "name": "stdout",
     "output_type": "stream",
     "text": [
      "multiple\n"
     ]
    },
    {
     "data": {
      "text/plain": [
       "'outputs'"
      ]
     },
     "execution_count": 2,
     "metadata": {},
     "output_type": "execute_result"
    }
   ],
   "source": [
    "print('multiple')\n",
    "'outputs'"
   ]
  }
 ],
 "metadata": {
  "kernelspec": {
   "display_name": "Python 3 (ipykernel)",
   "language": "python",
   "name": "python3"
  },
  "language_info": {
   "codemirror_mode": {
    "name": "ipython",
    "version": 3
   },
   "file_extension": ".py",
   "mimetype": "text/x-python",
   "name": "python",
   "nbconvert_exporter": "python",
   "pygments_lexer": "ipython3",
   "version": "3.8.6"
  }
 },
 "nbformat": 4,
 "nbformat_minor": 5
}
