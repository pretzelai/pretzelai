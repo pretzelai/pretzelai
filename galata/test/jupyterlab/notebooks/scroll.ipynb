{
 "cells": [
  {
   "cell_type": "markdown",
   "id": "dfc41e08-3eb7-4331-8521-37bf862b3fba",
   "metadata": {},
   "source": [
    "- <a href='#Last-cell'>last cell using heading, legacy format</a>\n",
    "- <a href='#heading=Last-cell'>last cell using heading, explicit fragment</a>\n",
    "- <a href='#cell-id=fabaec1b-f66d-40e1-82f3-641743d521e0'>last cell using cell identifier</a>"
   ]
  },
  {
   "cell_type": "markdown",
   "id": "92736779-fc45-4dad-8fdb-ecba14d79e47",
   "metadata": {},
   "source": [
    "- <a href='#Penultimate-cell-=-this'>penultimate cell using heading, legacy format</a>\n",
    "- <a href='#heading=Penultimate-cell-=-this'>penultimate cell using heading, explicit fragment</a>"
   ]
  },
  {
   "cell_type": "code",
   "execution_count": null,
   "id": "4a7a7bbe-bf00-4a94-b961-c177a2d2e25f",
   "metadata": {},
   "outputs": [],
   "source": []
  },
  {
   "cell_type": "code",
   "execution_count": null,
   "id": "ceaf9aff-1445-456b-adb4-62a2b9f5d52e",
   "metadata": {},
   "outputs": [],
   "source": []
  },
  {
   "cell_type": "code",
   "execution_count": null,
   "id": "01aee689-9192-4b8c-99e7-2234d1bfebdb",
   "metadata": {},
   "outputs": [],
   "source": []
  },
  {
   "cell_type": "code",
   "execution_count": null,
   "id": "8662ce35-86ed-4e80-98dd-93cdc1d087b8",
   "metadata": {},
   "outputs": [],
   "source": []
  },
  {
   "cell_type": "code",
   "execution_count": null,
   "id": "c64e8a12-9488-4d1a-bf3a-dc47c3061dce",
   "metadata": {},
   "outputs": [],
   "source": []
  },
  {
   "cell_type": "code",
   "execution_count": null,
   "id": "14f5b78f-71d1-4834-8481-ccec72e331cf",
   "metadata": {},
   "outputs": [],
   "source": []
  },
  {
   "cell_type": "code",
   "execution_count": null,
   "id": "d66568a7-47cd-4bf3-bd48-bca474c7a29a",
   "metadata": {},
   "outputs": [],
   "source": []
  },
  {
   "cell_type": "code",
   "execution_count": null,
   "id": "89ac20ea-0936-4bc9-88f8-f39c97ef045e",
   "metadata": {},
   "outputs": [],
   "source": []
  },
  {
   "cell_type": "code",
   "execution_count": null,
   "id": "13cc369b-04ac-4c86-8ad1-2417c500c3e2",
   "metadata": {},
   "outputs": [],
   "source": []
  },
  {
   "cell_type": "code",
   "execution_count": null,
   "id": "19d22c7f-0d2f-4ef9-ae76-2d94edaf6924",
   "metadata": {},
   "outputs": [],
   "source": []
  },
  {
   "cell_type": "code",
   "execution_count": null,
   "id": "5c39a47d-5aac-4d60-b3fd-78213e55ddf9",
   "metadata": {},
   "outputs": [],
   "source": []
  },
  {
   "cell_type": "code",
   "execution_count": null,
   "id": "c390f49a-96cf-424d-a58c-1bc102c30088",
   "metadata": {},
   "outputs": [],
   "source": []
  },
  {
   "cell_type": "code",
   "execution_count": null,
   "id": "3abe47af-1f73-4b57-b918-24f560649f4e",
   "metadata": {},
   "outputs": [],
   "source": []
  },
  {
   "cell_type": "code",
   "execution_count": null,
   "id": "e943cf2a-4e4c-4688-8b4f-56f758849ddd",
   "metadata": {},
   "outputs": [],
   "source": []
  },
  {
   "cell_type": "code",
   "execution_count": null,
   "id": "78668df9-9e32-4295-8878-604b521802d4",
   "metadata": {},
   "outputs": [],
   "source": []
  },
  {
   "cell_type": "code",
   "execution_count": null,
   "id": "87ef8dfb-c49d-4bc4-8828-7bbed89bb40b",
   "metadata": {},
   "outputs": [],
   "source": []
  },
  {
   "cell_type": "markdown",
   "id": "1c5beb44-6b15-4c73-a9ed-b4c994ebd9d1",
   "metadata": {},
   "source": [
    "# Penultimate cell = this"
   ]
  },
  {
   "cell_type": "markdown",
   "id": "fabaec1b-f66d-40e1-82f3-641743d521e0",
   "metadata": {},
   "source": [
    "# Last cell"
   ]
  }
 ],
 "metadata": {
  "kernelspec": {
   "display_name": "Python 3 (ipykernel)",
   "language": "python",
   "name": "python3"
  },
  "language_info": {
   "codemirror_mode": {
    "name": "ipython",
    "version": 3
   },
   "file_extension": ".py",
   "mimetype": "text/x-python",
   "name": "python",
   "nbconvert_exporter": "python",
   "pygments_lexer": "ipython3",
   "version": "3.8.6"
  }
 },
 "nbformat": 4,
 "nbformat_minor": 5
}
