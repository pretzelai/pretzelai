{
 "cells": [
  {
   "cell_type": "raw",
   "id": "41e14fee-d7c9-4454-885d-2518d4ec848c",
   "metadata": {},
   "source": [
    "Test with one notebook withr\n",
    "\n",
    "\n",
    "This is a multi line with hits with"
   ]
  },
  {
   "cell_type": "markdown",
   "id": "5dc41292-8540-4a89-bc06-f812cc43c66e",
   "metadata": {
    "tags": []
   },
   "source": [
    "# Test with one notebook withr\n",
    "\n",
    "This is a [multi line](https://jupyter.org \"with title\") With hits with"
   ]
  },
  {
   "cell_type": "code",
   "execution_count": 1,
   "id": "1c89499d-dee1-43b7-b42c-b18a96cf9c4d",
   "metadata": {
    "tags": []
   },
   "outputs": [],
   "source": [
    "outputs = [\n",
    "    {\"text/plain\": \"Plain text with\\nmultiple with hits.\"},\n",
    "    {\n",
    "        \"application/vnd.jupyter.stderr\": \"\\u001b[0;36m  File \\u001b[0;32m\\\"/tmp/ipykernel_20145/2152808028.py\\\"\\u001b[0;36m, line \\u001b[0;32m4\\u001b[0m\\n\\u001b[0;31m                     This is a multi line with hits witH\\u001b[0m\\n\\u001b[0m              \\            ^\\u001b[0m\\n\\u001b[0;31mSyntaxError\\u001b[0m\\u001b[0;31m:\\u001b[0m invalid syntax\\n\"\n",
    "    },\n",
    "    {\"text/markdown\": \"# Plain text with\\nmultiple with hits.\"},\n",
    "    {\n",
    "        \"text/html\": \"<h2 title=\\\"Title with a with\\\">Plain text with</h2><p>multiple <span style=\\\"color: orange;\\\">with hits.</span></p>\"\n",
    "    },\n",
    "]"
   ]
  },
  {
   "cell_type": "markdown",
   "id": "04e70d25-05a0-44ae-bcc7-04fab2bd1f55",
   "metadata": {},
   "source": [
    "# Title"
   ]
  },
  {
   "cell_type": "code",
   "execution_count": 2,
   "id": "5b715d07-c624-4884-bb98-f9ea130d4ca9",
   "metadata": {
    "tags": []
   },
   "outputs": [
    {
     "data": {
      "text/plain": [
       "Plain text with\n",
       "multiple with hits."
      ]
     },
     "metadata": {},
     "output_type": "display_data"
    },
    {
     "data": {
      "application/vnd.jupyter.stderr": "\u001b[0;36m  File \u001b[0;32m\"/tmp/ipykernel_20145/2152808028.py\"\u001b[0;36m, line \u001b[0;32m4\u001b[0m\n\u001b[0;31m                     This is a multi line with hits with\u001b[0m\n\u001b[0m                          ^\u001b[0m\n\u001b[0;31mSyntaxError\u001b[0m\u001b[0;31m:\u001b[0m invalid syntax\n"
     },
     "metadata": {},
     "output_type": "display_data"
    },
    {
     "data": {
      "text/markdown": [
       "# Plain text with\n",
       "multiple with hits."
      ]
     },
     "metadata": {},
     "output_type": "display_data"
    },
    {
     "data": {
      "text/html": [
       "<h2 title=\"Title with a with\">Plain text with</h2><p>multiple <span style=\"color: orange;\">with hits.</span></p>"
      ]
     },
     "metadata": {},
     "output_type": "display_data"
    }
   ],
   "source": [
    "from IPython.display import display\n",
    "\n",
    "display(*outputs, raw=True)"
   ]
  },
  {
   "cell_type": "code",
   "execution_count": 4,
   "id": "4063ad43-470b-436f-b40b-c31008e2b0f5",
   "metadata": {},
   "outputs": [],
   "source": [
    "from time import sleep\n",
    "\n",
    "for i in range(3):\n",
    "    sleep(1)\n",
    "    print(\"with\")\n",
    "    print(\"ith with ith\")"
   ]
  }
 ],
 "metadata": {
  "kernelspec": {
   "display_name": "Python 3 (ipykernel)",
   "language": "python",
   "name": "python3"
  },
  "language_info": {
   "codemirror_mode": {
    "name": "ipython",
    "version": 3
   },
   "file_extension": ".py",
   "mimetype": "text/x-python",
   "name": "python",
   "nbconvert_exporter": "python",
   "pygments_lexer": "ipython3",
   "version": "3.9.5"
  }
 },
 "nbformat": 4,
 "nbformat_minor": 5
}
