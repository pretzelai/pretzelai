{
 "cells": [
  {
   "cell_type": "code",
   "execution_count": 1,
   "id": "d0842a52-3276-49f3-8317-d74924526c74",
   "metadata": {
    "execution": {
     "iopub.execute_input": "2023-10-22T18:38:54.765733Z",
     "iopub.status.busy": "2023-10-22T18:38:54.765230Z",
     "iopub.status.idle": "2023-10-22T18:38:54.788414Z",
     "shell.execute_reply": "2023-10-22T18:38:54.786855Z",
     "shell.execute_reply.started": "2023-10-22T18:38:54.765692Z"
    }
   },
   "outputs": [
    {
     "name": "stdout",
     "output_type": "stream",
     "text": [
      "\n",
      "\n",
      "\n",
      "\n",
      "\n",
      "\n",
      "\n",
      "\n",
      "\n",
      "\n",
      "\n",
      "\n",
      "\n",
      "\n",
      "\n",
      "\n",
      "\n",
      "\n",
      "\n",
      "\n",
      "\n",
      "\n",
      "\n",
      "\n",
      "\n",
      "\n",
      "\n",
      "\n",
      "\n",
      "\n",
      "\n",
      "\n",
      "\n",
      "\n",
      "\n",
      "\n",
      "\n",
      "\n",
      "\n",
      "\n",
      "\n",
      "\n",
      "\n",
      "\n",
      "\n",
      "\n",
      "\n",
      "\n",
      "\n"
     ]
    }
   ],
   "source": [
    "print('\\n'.join(['' for i in range(1, 50)]))"
   ]
  },
  {
   "cell_type": "code",
   "execution_count": 2,
   "id": "86269b86-a753-427b-af87-fbed9582793f",
   "metadata": {
    "execution": {
     "iopub.execute_input": "2023-10-22T18:38:54.790065Z",
     "iopub.status.busy": "2023-10-22T18:38:54.789778Z",
     "iopub.status.idle": "2023-10-22T18:38:54.802738Z",
     "shell.execute_reply": "2023-10-22T18:38:54.801512Z",
     "shell.execute_reply.started": "2023-10-22T18:38:54.790036Z"
    }
   },
   "outputs": [
    {
     "data": {
      "text/plain": [
       "2"
      ]
     },
     "execution_count": 2,
     "metadata": {},
     "output_type": "execute_result"
    }
   ],
   "source": [
    "1 + 1"
   ]
  },
  {
   "cell_type": "code",
   "execution_count": 3,
   "id": "eb6917f6-dd57-4b5b-bb42-68848cc6044b",
   "metadata": {
    "execution": {
     "iopub.execute_input": "2023-10-22T18:38:54.804568Z",
     "iopub.status.busy": "2023-10-22T18:38:54.804144Z",
     "iopub.status.idle": "2023-10-22T18:38:54.809713Z",
     "shell.execute_reply": "2023-10-22T18:38:54.809011Z",
     "shell.execute_reply.started": "2023-10-22T18:38:54.804538Z"
    }
   },
   "outputs": [
    {
     "name": "stdout",
     "output_type": "stream",
     "text": [
      "1\n",
      "2\n",
      "3\n",
      "4\n",
      "5\n",
      "6\n",
      "7\n",
      "8\n",
      "9\n",
      "10\n",
      "11\n",
      "12\n",
      "13\n",
      "14\n",
      "15\n",
      "16\n",
      "17\n",
      "18\n",
      "19\n",
      "20\n",
      "21\n",
      "22\n",
      "23\n",
      "24\n",
      "25\n",
      "26\n",
      "27\n",
      "28\n",
      "29\n",
      "30\n",
      "31\n",
      "32\n",
      "33\n",
      "34\n",
      "35\n",
      "36\n",
      "37\n",
      "38\n",
      "39\n",
      "40\n",
      "41\n",
      "42\n",
      "43\n",
      "44\n",
      "45\n",
      "46\n",
      "47\n",
      "48\n",
      "49\n",
      "50\n",
      "51\n",
      "52\n",
      "53\n",
      "54\n",
      "55\n",
      "56\n",
      "57\n",
      "58\n",
      "59\n",
      "60\n",
      "61\n",
      "62\n",
      "63\n",
      "64\n",
      "65\n",
      "66\n",
      "67\n",
      "68\n",
      "69\n",
      "70\n",
      "71\n",
      "72\n",
      "73\n",
      "74\n",
      "75\n",
      "76\n",
      "77\n",
      "78\n",
      "79\n",
      "80\n",
      "81\n",
      "82\n",
      "83\n",
      "84\n",
      "85\n",
      "86\n",
      "87\n",
      "88\n",
      "89\n",
      "90\n",
      "91\n",
      "92\n",
      "93\n",
      "94\n",
      "95\n",
      "96\n",
      "97\n",
      "98\n",
      "99\n",
      "100\n"
     ]
    }
   ],
   "source": [
    "print('\\n'.join([f'{i}' for i in range(1, 101)]))"
   ]
  }
 ],
 "metadata": {
  "kernelspec": {
   "display_name": "Python 3 (ipykernel)",
   "language": "python",
   "name": "python3"
  },
  "language_info": {
   "codemirror_mode": {
    "name": "ipython",
    "version": 3
   },
   "file_extension": ".py",
   "mimetype": "text/x-python",
   "name": "python",
   "nbconvert_exporter": "python",
   "pygments_lexer": "ipython3",
   "version": "3.8.3"
  }
 },
 "nbformat": 4,
 "nbformat_minor": 5
}
