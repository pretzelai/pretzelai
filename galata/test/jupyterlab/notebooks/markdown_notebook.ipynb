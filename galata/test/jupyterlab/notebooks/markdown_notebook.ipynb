{
 "cells": [
  {
   "cell_type": "markdown",
   "metadata": {},
   "source": [
    "# Demonstration of LaTeX\n",
    "\n",
    "$$\n",
    "\\begin{aligned}\n",
    "\\dot{x} & = \\sigma(y-x) \\\\\n",
    "\\dot{y} & = \\rho x - y - xz \\\\\n",
    "\\dot{z} & = -\\beta z + xy\n",
    "\\end{aligned}\n",
    "$$\n",
    "\n",
    "Let's change (\\\\(\\sigma\\\\), \\\\(\\beta\\\\), \\\\(\\rho\\\\)) with ipywidgets and examine the trajectories.\n",
    "\n",
    "Inline $\\frac{math}{\\text{mode}}$ can be also added by wrapping the math expression in dollar signs."
   ]
  },
  {
   "cell_type": "markdown",
   "metadata": {
    "tags": []
   },
   "source": [
    "# Demonstration of proper behaviour with non-LaTeX uses of `$`\n",
    "\n",
    "## This should be highlighted as a heading\n",
    "\n",
    "Sample code:\n",
    "\n",
    "    ```\n",
    "    echo $HOME\n",
    "    ```\n",
    "\n",
    "```shell\n",
    "echo $HOME\n",
    "```\n",
    "\n",
    "The code block below should be properly highlighted:\n",
    "\n",
    "```bash\n",
    "echo $HOME\n",
    "```\n",
    "\n",
    "\n",
    "### Heading\n",
    "\n",
    "`$test`\n",
    "\n",
    "### This heading should be highlighted too"
   ]
  },
  {
   "cell_type": "markdown",
   "metadata": {},
   "source": [
    "## More non-TeX uses of `$`\n",
    "\n",
    "Example command:\n",
    "\n",
    "```sh\n",
    "$ ls\n",
    "```\n",
    "\n",
    "runs `ls`; the $ is the command prompt (the text after dollar sign should NOT be highlighted)\n",
    "\n",
    "```sh\n",
    "$ cd some/path\n",
    "```\n",
    "\n",
    "And list contents again: (text in this line should NOT be highlighted, greyed out, nor in italics)\n",
    "\n",
    "```sh\n",
    "$ ls\n",
    "```"
   ]
  },
  {
   "cell_type": "markdown",
   "metadata": {},
   "source": [
    "# Demonstration of MermaidJS\n",
    "\n",
    "Below is a diagram of a chicken and an egg.\n",
    "\n",
    "```mermaid\n",
    "flowchart LR\n",
    "  chicken --> egg --> chicken\n",
    "```"
   ]
  },
  {
   "cell_type": "markdown",
   "metadata": {},
   "source": [
    "### Broken MermaidJS\n",
    "\n",
    "Below is a broken diagram.\n",
    "\n",
    "```mermaid\n",
    "flowchart LR\n",
    "  chicken --> egg --> \n",
    "```"
   ]
  }
 ],
 "metadata": {
  "kernelspec": {
   "display_name": "Python 3 (ipykernel)",
   "language": "python",
   "name": "python3"
  },
  "language_info": {
   "codemirror_mode": {
    "name": "ipython",
    "version": 3
   },
   "file_extension": ".py",
   "mimetype": "text/x-python",
   "name": "python",
   "nbconvert_exporter": "python",
   "pygments_lexer": "ipython3",
   "version": "3.11.0"
  }
 },
 "nbformat": 4,
 "nbformat_minor": 4
}
