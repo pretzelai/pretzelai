{
 "cells": [
  {
   "cell_type": "markdown",
   "id": "5d1c6265-595e-4067-8858-7a39ecd4813f",
   "metadata": {},
   "source": [
    "# Title 1"
   ]
  },
  {
   "cell_type": "code",
   "execution_count": null,
   "id": "212fae91-2434-4b38-915b-9b41061d06dc",
   "metadata": {},
   "outputs": [],
   "source": [
    "from time import sleep"
   ]
  },
  {
   "cell_type": "code",
   "execution_count": null,
   "id": "42840d02-bf0f-40de-a025-ef7d8124bcca",
   "metadata": {},
   "outputs": [],
   "source": [
    "sleep(2)"
   ]
  },
  {
   "cell_type": "markdown",
   "id": "c0226cea-2040-4af8-b8b9-4de4b8a508bf",
   "metadata": {},
   "source": [
    "## Title 1.1"
   ]
  },
  {
   "cell_type": "markdown",
   "id": "a1b10a33-0d4c-4cf1-8d76-17ce4605c465",
   "metadata": {},
   "source": [
    "No heading"
   ]
  },
  {
   "cell_type": "code",
   "execution_count": null,
   "id": "ab93d84b-7ce0-48ed-825f-72730cdbedb8",
   "metadata": {},
   "outputs": [],
   "source": [
    "sleep(2)"
   ]
  },
  {
   "cell_type": "markdown",
   "id": "aa91d926-45a5-4f2f-ac22-61f97a2556f5",
   "metadata": {},
   "source": [
    "## Title 1.2"
   ]
  },
  {
   "cell_type": "code",
   "execution_count": null,
   "id": "11a59b88-cce7-4a6a-995c-015f29b42b4b",
   "metadata": {},
   "outputs": [],
   "source": [
    "sleep(1)"
   ]
  },
  {
   "cell_type": "markdown",
   "id": "6e47ab4b-2f7f-4a26-9a46-6bc8576ea2c1",
   "metadata": {},
   "source": [
    "## Title 1.3"
   ]
  },
  {
   "cell_type": "code",
   "execution_count": null,
   "id": "5acb2ea9-23db-4627-9154-86fdbca035f4",
   "metadata": {},
   "outputs": [],
   "source": [
    "raise ValueError(\"Test error\")"
   ]
  }
 ],
 "metadata": {
  "kernelspec": {
   "display_name": "Python 3 (ipykernel)",
   "language": "python",
   "name": "python3"
  },
  "language_info": {
   "codemirror_mode": {
    "name": "ipython",
    "version": 3
   },
   "file_extension": ".py",
   "mimetype": "text/x-python",
   "name": "python",
   "nbconvert_exporter": "python",
   "pygments_lexer": "ipython3",
   "version": "3.11.4"
  }
 },
 "nbformat": 4,
 "nbformat_minor": 5
}
