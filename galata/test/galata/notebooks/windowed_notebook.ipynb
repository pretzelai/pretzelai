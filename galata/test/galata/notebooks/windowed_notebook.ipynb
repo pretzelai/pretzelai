{
 "cells": [
  {
   "cell_type": "code",
   "execution_count": 16,
   "id": "4c296a32-1a0c-40e9-8e44-696db2c25eef",
   "metadata": {},
   "outputs": [
    {
     "data": {
      "text/markdown": [
       "[local link](#Title)"
      ],
      "text/plain": [
       "<IPython.core.display.Markdown object>"
      ]
     },
     "execution_count": 16,
     "metadata": {},
     "output_type": "execute_result"
    }
   ],
   "source": [
    "# dummy\n",
    "from IPython.display import Markdown\n",
    "\n",
    "Markdown('[local link](#Title)')"
   ]
  },
  {
   "cell_type": "code",
   "execution_count": 1,
   "id": "f075900d-442f-40b3-842d-9575568d434b",
   "metadata": {
    "tags": []
   },
   "outputs": [
    {
     "data": {
      "text/html": [
       "<div style=\"width:100px;height:350px;background:black;\"></div>"
      ],
      "text/plain": [
       "<IPython.core.display.HTML object>"
      ]
     },
     "execution_count": 1,
     "metadata": {},
     "output_type": "execute_result"
    }
   ],
   "source": [
    "from IPython.display import display, HTML\n",
    "\n",
    "div = HTML('<div style=\"width:100px;height:350px;background:black;\"></div>')\n",
    "div"
   ]
  },
  {
   "cell_type": "markdown",
   "id": "569f59b8-9ffe-47e0-9d39-971da701c380",
   "metadata": {
    "tags": []
   },
   "source": [
    "# Test JupyterLab windowed notebook"
   ]
  },
  {
   "cell_type": "code",
   "execution_count": 2,
   "id": "e3ba1ca5-8358-462c-bf90-131d6dba9790",
   "metadata": {
    "tags": []
   },
   "outputs": [
    {
     "data": {
      "text/html": [
       "<div style=\"width:100px;height:350px;background:black;\"></div>"
      ],
      "text/plain": [
       "<IPython.core.display.HTML object>"
      ]
     },
     "execution_count": 2,
     "metadata": {},
     "output_type": "execute_result"
    }
   ],
   "source": [
    "div"
   ]
  },
  {
   "cell_type": "raw",
   "id": "23c8c825-f03f-4039-bf73-74e5a6e21bf3",
   "metadata": {},
   "source": [
    "jupyterlab"
   ]
  },
  {
   "cell_type": "code",
   "execution_count": 3,
   "id": "cf7edd3c-9499-4301-ad0c-094f18da4d5e",
   "metadata": {
    "tags": []
   },
   "outputs": [
    {
     "data": {
      "application/geo+json": {
       "geometry": {
        "coordinates": [
         -118.4563712,
         34.0163116
        ],
        "type": "Point"
       },
       "type": "Feature"
      },
      "text/plain": [
       "<IPython.display.GeoJSON object>"
      ]
     },
     "metadata": {
      "application/geo+json": {
       "expanded": false,
       "root": "root"
      }
     },
     "output_type": "display_data"
    }
   ],
   "source": [
    "from IPython.display import GeoJSON\n",
    "\n",
    "GeoJSON(\n",
    "    {\"type\": \"Feature\", \"geometry\": {\"type\": \"Point\", \"coordinates\": [-118.4563712, 34.0163116]}}\n",
    ")"
   ]
  },
  {
   "cell_type": "markdown",
   "id": "352967bc-3746-4333-94ec-23f87fae5763",
   "metadata": {
    "tags": []
   },
   "source": [
    "## Title"
   ]
  },
  {
   "cell_type": "code",
   "execution_count": 19,
   "id": "40e0425e-3441-4f7f-92b7-56fd2ac6a19d",
   "metadata": {
    "tags": []
   },
   "outputs": [
    {
     "name": "stdout",
     "output_type": "stream",
     "text": [
      "hello the world\n"
     ]
    }
   ],
   "source": [
    "# Drag 1\n",
    "print(\"hello the world\")"
   ]
  },
  {
   "cell_type": "raw",
   "id": "519597e4-781c-4104-ad4a-2e7dee278e89",
   "metadata": {},
   "source": [
    "Drag 2"
   ]
  },
  {
   "cell_type": "code",
   "execution_count": 20,
   "id": "f2fb618b-d6f0-4047-aa02-e75fcea411a2",
   "metadata": {
    "tags": []
   },
   "outputs": [
    {
     "name": "stdout",
     "output_type": "stream",
     "text": [
      "A dummy text line\n",
      "A dummy text line\n",
      "A dummy text line\n",
      "A dummy text line\n",
      "A dummy text line\n",
      "A dummy text line\n",
      "A dummy text line\n",
      "A dummy text line\n",
      "A dummy text line\n",
      "A dummy text line\n"
     ]
    }
   ],
   "source": [
    "from time import sleep\n",
    "\n",
    "for i in range(10):\n",
    "    sleep(1)\n",
    "    print(\"A dummy text line\")\n",
    "# input('Your age')"
   ]
  },
  {
   "cell_type": "code",
   "execution_count": 21,
   "id": "ce7850b3-5d61-4c0c-ae49-32c25da997ef",
   "metadata": {
    "tags": []
   },
   "outputs": [
    {
     "data": {
      "text/html": [
       "<div style=\"width:100px;height:350px;background:black;\"></div>"
      ],
      "text/plain": [
       "<IPython.core.display.HTML object>"
      ]
     },
     "execution_count": 21,
     "metadata": {},
     "output_type": "execute_result"
    }
   ],
   "source": [
    "div"
   ]
  },
  {
   "cell_type": "code",
   "execution_count": 22,
   "id": "2d4d56bb-ed96-46b9-a647-109971d6fa42",
   "metadata": {},
   "outputs": [],
   "source": [
    "from IPython.display import display, IFrame"
   ]
  },
  {
   "cell_type": "code",
   "execution_count": 23,
   "id": "382d7fc0-c55b-4c5e-ae6e-31ee09cab13c",
   "metadata": {},
   "outputs": [
    {
     "data": {
      "text/html": [
       "\n",
       "        <iframe\n",
       "            width=\"600\"\n",
       "            height=\"400\"\n",
       "            src=\"https://jupyterlab.readthedocs.org/\"\n",
       "            frameborder=\"0\"\n",
       "            allowfullscreen\n",
       "        ></iframe>\n",
       "        "
      ],
      "text/plain": [
       "<IPython.lib.display.IFrame at 0x7f78f2ae85b0>"
      ]
     },
     "metadata": {},
     "output_type": "display_data"
    }
   ],
   "source": [
    "display(IFrame('https://jupyterlab.readthedocs.org/', width=600, height=400))"
   ]
  },
  {
   "cell_type": "code",
   "execution_count": 2,
   "id": "e3ba1ca5-8358-462c-bf90-131d6dba9790",
   "metadata": {
    "tags": []
   },
   "outputs": [
    {
     "data": {
      "text/html": [
       "<div style=\"width:100px;height:350px;background:black;\"></div>"
      ],
      "text/plain": [
       "<IPython.core.display.HTML object>"
      ]
     },
     "execution_count": 2,
     "metadata": {},
     "output_type": "execute_result"
    }
   ],
   "source": [
    "div"
   ]
  },
  {
   "cell_type": "code",
   "execution_count": 2,
   "id": "e3ba1ca5-8358-462c-bf90-131d6dba9790",
   "metadata": {
    "tags": []
   },
   "outputs": [
    {
     "data": {
      "text/html": [
       "<div style=\"width:100px;height:350px;background:black;\"></div>"
      ],
      "text/plain": [
       "<IPython.core.display.HTML object>"
      ]
     },
     "execution_count": 2,
     "metadata": {},
     "output_type": "execute_result"
    }
   ],
   "source": [
    "div"
   ]
  },
  {
   "cell_type": "code",
   "execution_count": 2,
   "id": "e3ba1ca5-8358-462c-bf90-131d6dba9790",
   "metadata": {
    "tags": []
   },
   "outputs": [
    {
     "data": {
      "text/html": [
       "<div style=\"width:100px;height:350px;background:black;\"></div>"
      ],
      "text/plain": [
       "<IPython.core.display.HTML object>"
      ]
     },
     "execution_count": 2,
     "metadata": {},
     "output_type": "execute_result"
    }
   ],
   "source": [
    "div"
   ]
  },
  {
   "cell_type": "code",
   "execution_count": 2,
   "id": "e3ba1ca5-8358-462c-bf90-131d6dba9790",
   "metadata": {
    "tags": []
   },
   "outputs": [
    {
     "data": {
      "text/html": [
       "<div style=\"width:100px;height:350px;background:black;\"></div>"
      ],
      "text/plain": [
       "<IPython.core.display.HTML object>"
      ]
     },
     "execution_count": 2,
     "metadata": {},
     "output_type": "execute_result"
    }
   ],
   "source": [
    "div"
   ]
  },
  {
   "cell_type": "code",
   "execution_count": 2,
   "id": "e3ba1ca5-8358-462c-bf90-131d6dba9790",
   "metadata": {
    "tags": []
   },
   "outputs": [
    {
     "data": {
      "text/html": [
       "<div style=\"width:100px;height:350px;background:black;\"></div>"
      ],
      "text/plain": [
       "<IPython.core.display.HTML object>"
      ]
     },
     "execution_count": 2,
     "metadata": {},
     "output_type": "execute_result"
    }
   ],
   "source": [
    "div"
   ]
  },
  {
   "cell_type": "code",
   "execution_count": null,
   "id": "f96e0d00",
   "metadata": {
    "tags": []
   },
   "outputs": [],
   "source": [
    "# Final cell"
   ]
  }
 ],
 "metadata": {
  "kernelspec": {
   "display_name": "Python 3 (ipykernel)",
   "language": "python",
   "name": "python3"
  },
  "language_info": {
   "codemirror_mode": {
    "name": "ipython",
    "version": 3
   },
   "file_extension": ".py",
   "mimetype": "text/x-python",
   "name": "python",
   "nbconvert_exporter": "python",
   "pygments_lexer": "ipython3",
   "version": "3.11.3"
  }
 },
 "nbformat": 4,
 "nbformat_minor": 5
}
